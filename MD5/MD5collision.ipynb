{
 "cells": [
  {
   "cell_type": "markdown",
   "metadata": {},
   "source": [
    "# MD5 Collision Attack Lab"
   ]
  },
  {
   "cell_type": "code",
   "execution_count": 1,
   "metadata": {},
   "outputs": [],
   "source": [
    "# Importando as bibliotecas necessárias\n",
    "import os\n",
    "import hashlib\n",
    "import subprocess"
   ]
  },
  {
   "cell_type": "code",
   "execution_count": 2,
   "metadata": {},
   "outputs": [],
   "source": [
    "# Função auxiliar para executar comandos do sistema e capturar a saída\n",
    "def run_command(command):\n",
    "    result = subprocess.run(command, shell=True, capture_output=True, text=True)\n",
    "    return result.stdout.strip()"
   ]
  },
  {
   "cell_type": "markdown",
   "metadata": {},
   "source": [
    "# Tarefa 1: Gerando Dois Arquivos Diferentes com o Mesmo Hash MD5"
   ]
  },
  {
   "cell_type": "markdown",
   "metadata": {},
   "source": [
    "Passo 1: Criar um Arquivo de Prefixo"
   ]
  },
  {
   "cell_type": "code",
   "execution_count": 3,
   "metadata": {},
   "outputs": [
    {
     "name": "stdout",
     "output_type": "stream",
     "text": [
      "Arquivo de prefixo 'prefix.txt' criado.\n"
     ]
    }
   ],
   "source": [
    "prefix_file = \"prefix.txt\"\n",
    "with open(prefix_file, \"w\") as f:\n",
    "    f.write(\"Teste de colisão MD5\")\n",
    "\n",
    "print(f\"Arquivo de prefixo '{prefix_file}' criado.\")"
   ]
  },
  {
   "cell_type": "markdown",
   "metadata": {},
   "source": [
    "Passo 2: Gerar Arquivos com Colisão de Hash MD5"
   ]
  },
  {
   "cell_type": "code",
   "execution_count": 4,
   "metadata": {},
   "outputs": [
    {
     "name": "stdout",
     "output_type": "stream",
     "text": [
      "Arquivos binários gerados com colisão de hash MD5.\n"
     ]
    }
   ],
   "source": [
    "out1 = \"out1.bin\"\n",
    "out2 = \"out2.bin\"\n",
    "command = f\"md5collgen -p {prefix_file} -o {out1} {out2}\"\n",
    "collision_output = run_command(command)\n",
    "\n",
    "print(\"Arquivos binários gerados com colisão de hash MD5.\")"
   ]
  },
  {
   "cell_type": "markdown",
   "metadata": {},
   "source": [
    "Passo 3: Verificar as Diferenças e Hashes"
   ]
  },
  {
   "cell_type": "code",
   "execution_count": 5,
   "metadata": {},
   "outputs": [
    {
     "name": "stdout",
     "output_type": "stream",
     "text": [
      "Diferenças entre os arquivos:\n",
      "Binary files out1.bin and out2.bin differ\n",
      "Hash MD5 do out1.bin: 7c317f92e1fe928b4e8e4edcb3031e72  out1.bin\n",
      "Hash MD5 do out2.bin: 7c317f92e1fe928b4e8e4edcb3031e72  out2.bin\n"
     ]
    }
   ],
   "source": [
    "diff_command = f\"diff {out1} {out2}\"\n",
    "diff_output = run_command(diff_command)\n",
    "hash_out1 = run_command(f\"md5sum {out1}\")\n",
    "hash_out2 = run_command(f\"md5sum {out2}\")\n",
    "\n",
    "print(f\"Diferenças entre os arquivos:\\n{diff_output}\")\n",
    "print(f\"Hash MD5 do {out1}: {hash_out1}\")\n",
    "print(f\"Hash MD5 do {out2}: {hash_out2}\")"
   ]
  },
  {
   "cell_type": "markdown",
   "metadata": {},
   "source": [
    "# Tarefa 2: Entendendo a Propriedade do MD5"
   ]
  },
  {
   "cell_type": "markdown",
   "metadata": {},
   "source": [
    "Passo 1: Concatenar Arquivos e Testar o Comportamento"
   ]
  },
  {
   "cell_type": "code",
   "execution_count": 6,
   "metadata": {},
   "outputs": [
    {
     "name": "stdout",
     "output_type": "stream",
     "text": [
      "Hash MD5 do final1.bin: 3d14e0bb9c99ad99019bf3373a0a8928  final1.bin\n",
      "Hash MD5 do final2.bin: 3d14e0bb9c99ad99019bf3373a0a8928  final2.bin\n"
     ]
    }
   ],
   "source": [
    "suffix_file = \"suffix.txt\"\n",
    "with open(suffix_file, \"w\") as f:\n",
    "    f.write(\"Sufixo Comum\")\n",
    "\n",
    "final1 = \"final1.bin\"\n",
    "final2 = \"final2.bin\"\n",
    "run_command(f\"cat {out1} {suffix_file} > {final1}\")\n",
    "run_command(f\"cat {out2} {suffix_file} > {final2}\")\n",
    "\n",
    "hash_final1 = run_command(f\"md5sum {final1}\")\n",
    "hash_final2 = run_command(f\"md5sum {final2}\")\n",
    "\n",
    "print(f\"Hash MD5 do {final1}: {hash_final1}\")\n",
    "print(f\"Hash MD5 do {final2}: {hash_final2}\")"
   ]
  },
  {
   "cell_type": "markdown",
   "metadata": {},
   "source": [
    "# Tarefa 3: Gerando Dois Executáveis com o Mesmo Hash MD5"
   ]
  },
  {
   "cell_type": "markdown",
   "metadata": {},
   "source": [
    "Passo 1: Criar e Compilar o Código C"
   ]
  },
  {
   "cell_type": "code",
   "execution_count": 7,
   "metadata": {},
   "outputs": [],
   "source": [
    "program_code = \"\"\"\n",
    "#include <stdio.h>\n",
    "\n",
    "unsigned char xyz[200] = {\n",
    "0x41, 0x41, 0x41, 0x41, 0x41, 0x41, 0x41, 0x41, 0x41, 0x41,\n",
    "0x41, 0x41, 0x41, 0x41, 0x41, 0x41, 0x41, 0x41, 0x41, 0x41,\n",
    "0x41, 0x41, 0x41, 0x41, 0x41, 0x41, 0x41, 0x41, 0x41, 0x41,\n",
    "0x41, 0x41, 0x41, 0x41, 0x41, 0x41, 0x41, 0x41, 0x41, 0x41,\n",
    "0x41, 0x41, 0x41, 0x41, 0x41, 0x41, 0x41, 0x41, 0x41, 0x41,\n",
    "0x41, 0x41, 0x41, 0x41, 0x41, 0x41, 0x41, 0x41, 0x41, 0x41,\n",
    "0x41, 0x41, 0x41, 0x41, 0x41, 0x41, 0x41, 0x41, 0x41, 0x41,\n",
    "0x41, 0x41, 0x41, 0x41, 0x41, 0x41, 0x41, 0x41, 0x41, 0x41,\n",
    "0x41, 0x41, 0x41, 0x41, 0x41, 0x41, 0x41, 0x41, 0x41, 0x41,\n",
    "0x41, 0x41, 0x41, 0x41, 0x41, 0x41, 0x41, 0x41, 0x41, 0x41,\n",
    "0x41, 0x41, 0x41, 0x41, 0x41, 0x41, 0x41, 0x41, 0x41, 0x41,\n",
    "0x41, 0x41, 0x41, 0x41, 0x41, 0x41, 0x41, 0x41, 0x41, 0x41,\n",
    "0x41, 0x41, 0x41, 0x41, 0x41, 0x41, 0x41, 0x41, 0x41, 0x41,\n",
    "0x41, 0x41, 0x41, 0x41, 0x41, 0x41, 0x41, 0x41, 0x41, 0x41,\n",
    "0x41, 0x41, 0x41, 0x41, 0x41, 0x41, 0x41, 0x41, 0x41, 0x41,\n",
    "0x41, 0x41, 0x41, 0x41, 0x41, 0x41, 0x41, 0x41, 0x41, 0x41,\n",
    "0x41, 0x41, 0x41, 0x41, 0x41, 0x41, 0x41, 0x41, 0x41, 0x41,\n",
    "0x41, 0x41, 0x41, 0x41, 0x41, 0x41, 0x41, 0x41, 0x41, 0x41,\n",
    "0x41, 0x41, 0x41, 0x41, 0x41, 0x41, 0x41, 0x41, 0x41, 0x41,\n",
    "0x41, 0x41, 0x41, 0x41, 0x41, 0x41, 0x41, 0x41, 0x41, 0x41,\n",
    "};\n",
    "\n",
    "int main()\n",
    "{\n",
    "    int i;\n",
    "    for (i = 0; i < 200; i++){\n",
    "        printf(\"%x\", xyz[i]);\n",
    "    }\n",
    "    printf(\"\\\\n\");\n",
    "}\n",
    "\"\"\""
   ]
  },
  {
   "cell_type": "code",
   "execution_count": 8,
   "metadata": {},
   "outputs": [
    {
     "name": "stdout",
     "output_type": "stream",
     "text": [
      "Código C salvo em 'program.c'.\n"
     ]
    }
   ],
   "source": [
    "# Salvando o código C em um arquivo\n",
    "program_file = \"program.c\"\n",
    "with open(program_file, \"w\") as f:\n",
    "    f.write(program_code)\n",
    "print(f\"Código C salvo em '{program_file}'.\")"
   ]
  },
  {
   "cell_type": "code",
   "execution_count": 9,
   "metadata": {},
   "outputs": [
    {
     "name": "stdout",
     "output_type": "stream",
     "text": [
      "Código compilado para 'program'.\n"
     ]
    }
   ],
   "source": [
    "# Compilando o código C\n",
    "run_command(f\"gcc -o program {program_file}\")\n",
    "print(\"Código compilado para 'program'.\")"
   ]
  },
  {
   "cell_type": "markdown",
   "metadata": {},
   "source": [
    "Passo 2: Modificar o Executável para Criar Colisão de Hash"
   ]
  },
  {
   "cell_type": "code",
   "execution_count": 10,
   "metadata": {},
   "outputs": [
    {
     "name": "stdout",
     "output_type": "stream",
     "text": [
      "Arquivo dividido em 'prefix.bin' e 'suffix.bin'.\n"
     ]
    }
   ],
   "source": [
    "# Dividir o binário em prefixo, região de colisão e sufixo\n",
    "\n",
    "prefix_end = 0x3040   # Início da região de colisão, incluindo 32 bytes do array\n",
    "collision_region_size = 0x80  # 128 bytes em hexadecimal (região de colisão)\n",
    "collision_end = prefix_end + collision_region_size + 1 # Final da região de colisão\n",
    "\n",
    "prefix = \"prefix.bin\"\n",
    "suffix = \"suffix.bin\"\n",
    "\n",
    "# Dividir o binário em partes\n",
    "run_command(f\"head -c {prefix_end} program > {prefix}\")\n",
    "run_command(f\"tail -c +{collision_end} program > {suffix}\")\n",
    "\n",
    "print(f\"Arquivo dividido em '{prefix}' e '{suffix}'.\")"
   ]
  },
  {
   "cell_type": "code",
   "execution_count": 11,
   "metadata": {},
   "outputs": [
    {
     "name": "stdout",
     "output_type": "stream",
     "text": [
      "Colisões geradas: 'collision1.bin' e 'collision2.bin'.\n"
     ]
    }
   ],
   "source": [
    "# Gerar partes de colisão usando o prefixo\n",
    "output1 = \"collision1.bin\"\n",
    "output2 = \"collision2.bin\"\n",
    "collision_command = f\"md5collgen -p {prefix} -o {output1} {output2}\"\n",
    "run_command(collision_command)\n",
    "\n",
    "print(f\"Colisões geradas: '{output1}' e '{output2}'.\")"
   ]
  },
  {
   "cell_type": "code",
   "execution_count": 12,
   "metadata": {},
   "outputs": [
    {
     "name": "stdout",
     "output_type": "stream",
     "text": [
      "Programas 'program1' e 'program2' criados.\n"
     ]
    }
   ],
   "source": [
    "# Recombinar as partes para criar dois binários diferentes\n",
    "program1 = \"program1\"\n",
    "program2 = \"program2\"\n",
    "run_command(f\"cat {output1} {suffix} > {program1}\")\n",
    "run_command(f\"cat {output2} {suffix} > {program2}\")\n",
    "\n",
    "# Conceder permissões de execução aos arquivos gerados\n",
    "run_command(f\"chmod +x {program1}\")\n",
    "run_command(f\"chmod +x {program2}\")\n",
    "\n",
    "print(f\"Programas '{program1}' e '{program2}' criados.\")"
   ]
  },
  {
   "cell_type": "code",
   "execution_count": 13,
   "metadata": {},
   "outputs": [
    {
     "name": "stdout",
     "output_type": "stream",
     "text": [
      "Saída de program1: 4141414141414141414141414141414141414141414141414141414141414141e98a71d23b63c44a37841cfd21edf47f73661ab0435a338236b67735acc7b656a9fb9c74a6f7fbeb5b3cbcce432a94c1dec3f350d2358ad18412908829f99f384eb2e977dcb391fbcd34c48c94014cf1132a0641c93d0adc5070975f68c7d39d6a489785c11b39fdc33b8a68dcec29cc36874458b75e5b30826f16da441414141414141414141414141414141414141414141414141414141414141414141414141414141\n",
      "Saída de program2: 4141414141414141414141414141414141414141414141414141414141414141e98a71d23b63c44a37841cfd21edf47f73661a30435a338236b67735acc7b656a9fb9c74a6f7fbeb5b3cbccec32a94c1dec3f350d2358ad18412108829f99f384eb2e977dcb391fbcd34c48c94014cf113220641c93d0adc5070975f68c7d39d6a489785c11b39fdc33b8ae8ccec29cc36874458b75e5b3026f16da441414141414141414141414141414141414141414141414141414141414141414141414141414141\n"
     ]
    }
   ],
   "source": [
    "# Executar e verificar o comportamento dos programas\n",
    "output_program1 = run_command(f\"./{program1}\")\n",
    "output_program2 = run_command(f\"./{program2}\")\n",
    "\n",
    "print(f\"Saída de {program1}: {output_program1}\")\n",
    "print(f\"Saída de {program2}: {output_program2}\")\n",
    "\n",
    "diff_command = f\"diff {program1} {program2}\"\n",
    "diff_output = run_command(diff_command)\n",
    "\n",
    "print(f\"Diferenças entre os arquivos:\\n{diff_output}\")"
   ]
  },
  {
   "cell_type": "markdown",
   "metadata": {},
   "source": [
    "Passo 4: Verificar o Hash MD5 dos Executáveis"
   ]
  },
  {
   "cell_type": "code",
   "execution_count": 23,
   "metadata": {},
   "outputs": [
    {
     "name": "stdout",
     "output_type": "stream",
     "text": [
      "Diferenças entre os arquivos:\n",
      "Binary files program1 and program2 differ\n",
      "Hash MD5 de program1: cae030aee2fe395d63a70685ff2490c9  program1\n",
      "Hash MD5 de program2: cae030aee2fe395d63a70685ff2490c9  program2\n"
     ]
    }
   ],
   "source": [
    "# Verificar os hashes MD5 dos dois executáveis\n",
    "hash_program1 = run_command(f\"md5sum {program1}\")\n",
    "hash_program2 = run_command(f\"md5sum {program2}\")\n",
    "\n",
    "print(f\"Hash MD5 de {program1}: {hash_program1}\")\n",
    "print(f\"Hash MD5 de {program2}: {hash_program2}\")"
   ]
  },
  {
   "cell_type": "markdown",
   "metadata": {},
   "source": [
    "# Tarefa 4: Fazendo os Programas Executarem Diferente"
   ]
  },
  {
   "cell_type": "markdown",
   "metadata": {},
   "source": [
    "Passo 1: Modificar o Código C para Diferentes Comportamentos"
   ]
  },
  {
   "cell_type": "code",
   "execution_count": 15,
   "metadata": {},
   "outputs": [
    {
     "name": "stdout",
     "output_type": "stream",
     "text": [
      "Código C modificado salvo em 'program_modified.c'.\n"
     ]
    }
   ],
   "source": [
    "# Criar o código-fonte C modificado\n",
    "program_code_modified = \"\"\"\n",
    "#include <stdio.h>\n",
    "\n",
    "unsigned char X[200] = {\n",
    "0x41, 0x41, 0x41, 0x41, 0x41, 0x41, 0x41, 0x41, 0x41, 0x41,\n",
    "0x41, 0x41, 0x41, 0x41, 0x41, 0x41, 0x41, 0x41, 0x41, 0x41,\n",
    "0x41, 0x41, 0x41, 0x41, 0x41, 0x41, 0x41, 0x41, 0x41, 0x41,\n",
    "0x41, 0x41, 0x41, 0x41, 0x41, 0x41, 0x41, 0x41, 0x41, 0x41,\n",
    "0x41, 0x41, 0x41, 0x41, 0x41, 0x41, 0x41, 0x41, 0x41, 0x41,\n",
    "0x41, 0x41, 0x41, 0x41, 0x41, 0x41, 0x41, 0x41, 0x41, 0x41,\n",
    "0x41, 0x41, 0x41, 0x41, 0x41, 0x41, 0x41, 0x41, 0x41, 0x41,\n",
    "0x41, 0x41, 0x41, 0x41, 0x41, 0x41, 0x41, 0x41, 0x41, 0x41,\n",
    "0x41, 0x41, 0x41, 0x41, 0x41, 0x41, 0x41, 0x41, 0x41, 0x41,\n",
    "0x41, 0x41, 0x41, 0x41, 0x41, 0x41, 0x41, 0x41, 0x41, 0x41,\n",
    "0x41, 0x41, 0x41, 0x41, 0x41, 0x41, 0x41, 0x41, 0x41, 0x41,\n",
    "0x41, 0x41, 0x41, 0x41, 0x41, 0x41, 0x41, 0x41, 0x41, 0x41,\n",
    "0x41, 0x41, 0x41, 0x41, 0x41, 0x41, 0x41, 0x41, 0x41, 0x41,\n",
    "0x41, 0x41, 0x41, 0x41, 0x41, 0x41, 0x41, 0x41, 0x41, 0x41,\n",
    "0x41, 0x41, 0x41, 0x41, 0x41, 0x41, 0x41, 0x41, 0x41, 0x41,\n",
    "0x41, 0x41, 0x41, 0x41, 0x41, 0x41, 0x41, 0x41, 0x41, 0x41,\n",
    "0x41, 0x41, 0x41, 0x41, 0x41, 0x41, 0x41, 0x41, 0x41, 0x41,\n",
    "0x41, 0x41, 0x41, 0x41, 0x41, 0x41, 0x41, 0x41, 0x41, 0x41,\n",
    "0x41, 0x41, 0x41, 0x41, 0x41, 0x41, 0x41, 0x41, 0x41, 0x41,\n",
    "0x41, 0x41, 0x41, 0x41, 0x41, 0x41, 0x41, 0x41, 0x41, 0x41,\n",
    "};\n",
    "\n",
    "unsigned char Y[200] = {\n",
    "0x41, 0x41, 0x41, 0x41, 0x41, 0x41, 0x41, 0x41, 0x41, 0x41,\n",
    "0x41, 0x41, 0x41, 0x41, 0x41, 0x41, 0x41, 0x41, 0x41, 0x41,\n",
    "0x41, 0x41, 0x41, 0x41, 0x41, 0x41, 0x41, 0x41, 0x41, 0x41,\n",
    "0x41, 0x41, 0x41, 0x41, 0x41, 0x41, 0x41, 0x41, 0x41, 0x41,\n",
    "0x41, 0x41, 0x41, 0x41, 0x41, 0x41, 0x41, 0x41, 0x41, 0x41,\n",
    "0x41, 0x41, 0x41, 0x41, 0x41, 0x41, 0x41, 0x41, 0x41, 0x41,\n",
    "0x41, 0x41, 0x41, 0x41, 0x41, 0x41, 0x41, 0x41, 0x41, 0x41,\n",
    "0x41, 0x41, 0x41, 0x41, 0x41, 0x41, 0x41, 0x41, 0x41, 0x41,\n",
    "0x41, 0x41, 0x41, 0x41, 0x41, 0x41, 0x41, 0x41, 0x41, 0x41,\n",
    "0x41, 0x41, 0x41, 0x41, 0x41, 0x41, 0x41, 0x41, 0x41, 0x41,\n",
    "0x41, 0x41, 0x41, 0x41, 0x41, 0x41, 0x41, 0x41, 0x41, 0x41,\n",
    "0x41, 0x41, 0x41, 0x41, 0x41, 0x41, 0x41, 0x41, 0x41, 0x41,\n",
    "0x41, 0x41, 0x41, 0x41, 0x41, 0x41, 0x41, 0x41, 0x41, 0x41,\n",
    "0x41, 0x41, 0x41, 0x41, 0x41, 0x41, 0x41, 0x41, 0x41, 0x41,\n",
    "0x41, 0x41, 0x41, 0x41, 0x41, 0x41, 0x41, 0x41, 0x41, 0x41,\n",
    "0x41, 0x41, 0x41, 0x41, 0x41, 0x41, 0x41, 0x41, 0x41, 0x41,\n",
    "0x41, 0x41, 0x41, 0x41, 0x41, 0x41, 0x41, 0x41, 0x41, 0x41,\n",
    "0x41, 0x41, 0x41, 0x41, 0x41, 0x41, 0x41, 0x41, 0x41, 0x41,\n",
    "0x41, 0x41, 0x41, 0x41, 0x41, 0x41, 0x41, 0x41, 0x41, 0x41,\n",
    "0x41, 0x41, 0x41, 0x41, 0x41, 0x41, 0x41, 0x41, 0x41, 0x41,\n",
    "};\n",
    "\n",
    "void benign_code() {\n",
    "    printf(\"Executando código benigno.\\\\n\");\n",
    "}\n",
    "\n",
    "void malicious_code() {\n",
    "    printf(\"Executando código malicioso!\\\\n\");\n",
    "}\n",
    "\n",
    "int main()\n",
    "{\n",
    "    int i;\n",
    "    int equal = 1;\n",
    "    for (i = 0; i < 200; i++) {\n",
    "        if (X[i] != Y[i]) {\n",
    "            equal = 0;\n",
    "            break;\n",
    "        }\n",
    "    }\n",
    "    if (equal) {\n",
    "        benign_code();\n",
    "    } else {\n",
    "        malicious_code();\n",
    "    }\n",
    "    return 0;\n",
    "}\n",
    "\"\"\"\n",
    "\n",
    "# Salvando o código C modificado em um arquivo\n",
    "program_file_modified = \"program_modified.c\"\n",
    "with open(program_file_modified, \"w\") as f:\n",
    "    f.write(program_code_modified)\n",
    "\n",
    "print(f\"Código C modificado salvo em '{program_file_modified}'.\")"
   ]
  },
  {
   "cell_type": "markdown",
   "metadata": {},
   "source": [
    "Passo 2: Compilar o Código C Modificado"
   ]
  },
  {
   "cell_type": "code",
   "execution_count": 16,
   "metadata": {},
   "outputs": [
    {
     "name": "stdout",
     "output_type": "stream",
     "text": [
      "Código compilado para 'program_modified'.\n"
     ]
    }
   ],
   "source": [
    "# Compilar o código C modificado\n",
    "compile_output_modified = run_command(f\"gcc -o program_modified {program_file_modified}\")\n",
    "print(\"Código compilado para 'program_modified'.\")\n"
   ]
  },
  {
   "cell_type": "markdown",
   "metadata": {},
   "source": [
    "Passo 3: Modificar o Binário para Criar Diferentes Comportamentos"
   ]
  },
  {
   "cell_type": "code",
   "execution_count": 17,
   "metadata": {},
   "outputs": [
    {
     "name": "stdout",
     "output_type": "stream",
     "text": [
      "Arquivo dividido em 'prefix_modified.bin' e 'suffix_modified.bin'.\n"
     ]
    }
   ],
   "source": [
    "# Dividir o binário em prefixo, região de colisão e sufixo\n",
    "\n",
    "# Estabelecendo os offsets conforme discutido\n",
    "prefix_end_modified = 0x3040   # Início da região de colisão, incluindo 32 bytes do array\n",
    "collision_region_size = 0x80  # 128 bytes em hexadecimal (região de colisão)\n",
    "collision_end_modified = prefix_end + collision_region_size + 1  # Final da região de colisão\n",
    "\n",
    "prefix_modified = \"prefix_modified.bin\"\n",
    "suffix_modified = \"suffix_modified.bin\"\n",
    "\n",
    "# Dividir o binário em partes\n",
    "run_command(f\"head -c {prefix_end_modified} program_modified > {prefix_modified}\")\n",
    "run_command(f\"tail -c +{collision_end_modified} program_modified > {suffix_modified}\")\n",
    "\n",
    "print(f\"Arquivo dividido em '{prefix_modified}' e '{suffix_modified}'.\")"
   ]
  },
  {
   "cell_type": "code",
   "execution_count": 18,
   "metadata": {},
   "outputs": [
    {
     "name": "stdout",
     "output_type": "stream",
     "text": [
      "Colisões geradas: 'collision1_modified.bin' e 'collision2_modified.bin'.\n"
     ]
    }
   ],
   "source": [
    "# Gerar partes de colisão usando o prefixo\n",
    "output1_modified = \"collision1_modified.bin\"\n",
    "output2_modified = \"collision2_modified.bin\"\n",
    "collision_command_modified = f\"md5collgen -p {prefix_modified} -o {output1_modified} {output2_modified}\"\n",
    "run_command(collision_command_modified)\n",
    "\n",
    "print(f\"Colisões geradas: '{output1_modified}' e '{output2_modified}'.\")"
   ]
  },
  {
   "cell_type": "code",
   "execution_count": 19,
   "metadata": {},
   "outputs": [
    {
     "name": "stdout",
     "output_type": "stream",
     "text": [
      "Sufixo 1 gerado: `suffix1_modified.bin'.\n"
     ]
    }
   ],
   "source": [
    "# Alterar o array de Y para igualar com X\n",
    "suffix_a = \"suffix_a.bin\"\n",
    "suffix_b = \"suffix_b.bin\"\n",
    "suffix_c = \"suffix_c.bin\"\n",
    "\n",
    "AAA_region = 0x20 + 0x40 # ultimos bytes de X e 32 primeiros bytes A de Y\n",
    "sufix_tail = collision_end_modified + AAA_region + collision_region_size # Final da inclusão do trecho de colisão\n",
    "\n",
    "# Selecionar as partes do sufixo\n",
    "run_command(f\"tail -c {collision_region_size} collision1_modified.bin > {suffix_b}\")\n",
    "run_command(f\"head -c {AAA_region} suffix_modified.bin > {suffix_a}\")\n",
    "run_command(f\"tail -c +{sufix_tail} program_modified > {suffix_c}\")\n",
    "\n",
    "# Juntar as partes do sufixo\n",
    "\n",
    "suffix1_modified = \"suffix1_modified.bin\"\n",
    "\n",
    "run_command(f\"cat {suffix_a} {suffix_b} {suffix_c} > {suffix1_modified}\")\n",
    "\n",
    "print(f\"Sufixo 1 gerado: `{suffix1_modified}'.\")\n"
   ]
  },
  {
   "cell_type": "code",
   "execution_count": 20,
   "metadata": {},
   "outputs": [
    {
     "name": "stdout",
     "output_type": "stream",
     "text": [
      "Programas 'program1_modified' e 'program2_modified' criados.\n"
     ]
    }
   ],
   "source": [
    "# Recombinar as partes para criar dois binários diferentes\n",
    "program1_modified = \"program1_modified\"\n",
    "program2_modified = \"program2_modified\"\n",
    "run_command(f\"cat {output1_modified} {suffix1_modified} > {program1_modified}\")\n",
    "run_command(f\"cat {output2_modified} {suffix1_modified} > {program2_modified}\")\n",
    "\n",
    "# Conceder permissões de execução aos arquivos gerados\n",
    "run_command(f\"chmod +x {program1_modified}\")\n",
    "run_command(f\"chmod +x {program2_modified}\")\n",
    "\n",
    "print(f\"Programas '{program1_modified}' e '{program2_modified}' criados.\")"
   ]
  },
  {
   "cell_type": "markdown",
   "metadata": {},
   "source": [
    "Passo 4: Testar o Comportamento dos Programas"
   ]
  },
  {
   "cell_type": "code",
   "execution_count": 21,
   "metadata": {},
   "outputs": [
    {
     "name": "stdout",
     "output_type": "stream",
     "text": [
      "Saída de program1_modified: Executando código benigno.\n",
      "Saída de program2_modified: Executando código malicioso!\n"
     ]
    }
   ],
   "source": [
    "# Executar e verificar o comportamento dos programas\n",
    "output_program1_modified = run_command(f\"./{program1_modified}\")\n",
    "output_program2_modified = run_command(f\"./{program2_modified}\")\n",
    "\n",
    "print(f\"Saída de {program1_modified}: {output_program1_modified}\")\n",
    "print(f\"Saída de {program2_modified}: {output_program2_modified}\")"
   ]
  },
  {
   "cell_type": "markdown",
   "metadata": {},
   "source": [
    "Passo 5: Verificar o Hash MD5 dos Executáveis"
   ]
  },
  {
   "cell_type": "code",
   "execution_count": 22,
   "metadata": {},
   "outputs": [
    {
     "name": "stdout",
     "output_type": "stream",
     "text": [
      "Hash MD5 de program1_modified: 257ac5464189357288a48e2a6a7947fa  program1_modified\n",
      "Hash MD5 de program2_modified: 257ac5464189357288a48e2a6a7947fa  program2_modified\n"
     ]
    }
   ],
   "source": [
    "# Verificar os hashes MD5 dos dois executáveis\n",
    "hash_program1_modified = run_command(f\"md5sum {program1_modified}\")\n",
    "hash_program2_modified = run_command(f\"md5sum {program2_modified}\")\n",
    "\n",
    "print(f\"Hash MD5 de {program1_modified}: {hash_program1_modified}\")\n",
    "print(f\"Hash MD5 de {program2_modified}: {hash_program2_modified}\")"
   ]
  }
 ],
 "metadata": {
  "kernelspec": {
   "display_name": "Python 3 (ipykernel)",
   "language": "python",
   "name": "python3"
  },
  "language_info": {
   "codemirror_mode": {
    "name": "ipython",
    "version": 3
   },
   "file_extension": ".py",
   "mimetype": "text/x-python",
   "name": "python",
   "nbconvert_exporter": "python",
   "pygments_lexer": "ipython3",
   "version": "3.11.3"
  }
 },
 "nbformat": 4,
 "nbformat_minor": 4
}
